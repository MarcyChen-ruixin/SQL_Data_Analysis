{
 "cells": [
  {
   "cell_type": "markdown",
   "id": "f1b2992f",
   "metadata": {},
   "source": [
    "Firstly, make the table in the workplace"
   ]
  },
  {
   "cell_type": "code",
   "execution_count": 12,
   "id": "86a733c9",
   "metadata": {},
   "outputs": [],
   "source": [
    "import csv\n",
    "#read the file\n",
    "filename='F:\\M3_Data40.txt'\n",
    "with open('F:\\M3_Data40.txt') as csvfile:\n",
    "    readCSV = csv.reader(csvfile)\n",
    "with open(filename) as csvfile:\n",
    "    reader = csv.DictReader(csvfile)\n",
    "    diagnosis = [row['Diagnosis'] for row in reader] \n",
    "with open(filename) as csvfile:\n",
    "    reader = csv.DictReader(csvfile)\n",
    "    age = [row['Age'] for row in reader] \n",
    "with open(filename) as csvfile:\n",
    "    reader = csv.DictReader(csvfile)\n",
    "    gender = [row['Gender'] for row in reader] \n",
    "with open(filename) as csvfile:\n",
    "    reader = csv.DictReader(csvfile)\n",
    "    chest_pain = [row['PainType'] for row in reader]\n",
    "with open(filename) as csvfile:\n",
    "    reader = csv.DictReader(csvfile)\n",
    "    bloodpres = [row['BloodPres'] for row in reader] \n",
    "with open(filename) as csvfile:\n",
    "    reader = csv.DictReader(csvfile)\n",
    "    chol = [row['Chol'] for row in reader] \n",
    "age=list(map(int, age))\n",
    "bloodpres=list(map(int, bloodpres))\n",
    "chol=list(map(int, chol))"
   ]
  },
  {
   "cell_type": "markdown",
   "id": "1bea8502",
   "metadata": {},
   "source": [
    "Question1: Find the list index values of each hospital patient having a “cholesterol” reading that is greater than 250 using a list comprehension instead of a basic for or while loop. The list comprehension should create a new list containing your result. Be sure to print your results to the screen."
   ]
  },
  {
   "cell_type": "markdown",
   "id": "eba6505b",
   "metadata": {},
   "source": [
    "As we learnt,the list comprehension is\n",
    "new_list = [expresion_for_member for member in iterable if condition]\n",
    "in this question the expresion_for_member and number is i, and the iterable is range(len(chol)), the condition is chol[i]>250"
   ]
  },
  {
   "cell_type": "code",
   "execution_count": 13,
   "id": "24330adb",
   "metadata": {},
   "outputs": [
    {
     "name": "stdout",
     "output_type": "stream",
     "text": [
      "[1, 6, 7, 8, 11, 12, 13, 18, 19, 21, 22, 26, 32, 37, 38]\n"
     ]
    }
   ],
   "source": [
    "chol_list=[i for i in range(len(chol))if chol[i]> 250]\n",
    "print(chol_list)"
   ]
  },
  {
   "cell_type": "markdown",
   "id": "c7d59b1d",
   "metadata": {},
   "source": [
    "Question2: Find the \"gender\" value for each hospital patient having a \"cholesterol\" value that is greater than 250 using a list comprehension instead of a basic for or while loop. The list comprehension should create a new list containing your findings. Be sure to print your results to the screen."
   ]
  },
  {
   "cell_type": "markdown",
   "id": "245cb395",
   "metadata": {},
   "source": [
    "In this question, the expresion_for_member is gender[i],and the number is i, and the iterable is range(len(chol), the condition is chol[i]>250"
   ]
  },
  {
   "cell_type": "code",
   "execution_count": 14,
   "id": "0ca86478",
   "metadata": {},
   "outputs": [
    {
     "name": "stdout",
     "output_type": "stream",
     "text": [
      "['MALE', 'FEMALE', 'FEMALE', 'MALE', 'FEMALE', 'MALE', 'MALE', 'FEMALE', 'MALE', 'FEMALE', 'MALE', 'FEMALE', 'MALE', 'MALE', 'MALE']\n"
     ]
    }
   ],
   "source": [
    "gender_list=[gender[i] for i in range(len(chol))if chol[i]> 250]\n",
    "print(gender_list)"
   ]
  },
  {
   "cell_type": "markdown",
   "id": "5ef0d44c",
   "metadata": {},
   "source": [
    "Question3: Find the index value for each hospital patient having an “age” value that is greater than or equal to 50 and a “pain type” value that is not \"ATYPICAL_ANGINA\"using a list comprehension. The list comprehension should create a new list containing your findings. Be sure to print your results to the screen."
   ]
  },
  {
   "cell_type": "markdown",
   "id": "c02d55dd",
   "metadata": {},
   "source": [
    "In this question, the expresion_for_member is chest_pain[i],and the number is i, and the iterable is range(len(age)), the condition is age[i]> 50 and chest_pain!= 'ATYPICAL_ANGINA'"
   ]
  },
  {
   "cell_type": "code",
   "execution_count": 15,
   "id": "cf26e3b8",
   "metadata": {},
   "outputs": [
    {
     "name": "stdout",
     "output_type": "stream",
     "text": [
      "['TYPICAL_ANGINA', 'ASYMPTOMATIC', 'ASYMPTOMATIC', 'ATYPICAL_ANGINA', 'ASYMPTOMATIC', 'ASYMPTOMATIC', 'ASYMPTOMATIC', 'ASYMPTOMATIC', 'ASYMPTOMATIC', 'ATYPICAL_ANGINA', 'NON_ANGINAL', 'NON_ANGINAL', 'NON_ANGINAL', 'ASYMPTOMATIC', 'TYPICAL_ANGINA', 'TYPICAL_ANGINA', 'ATYPICAL_ANGINA', 'NON_ANGINAL', 'ASYMPTOMATIC', 'NON_ANGINAL', 'TYPICAL_ANGINA', 'TYPICAL_ANGINA', 'ASYMPTOMATIC', 'NON_ANGINAL', 'ASYMPTOMATIC', 'ASYMPTOMATIC', 'ASYMPTOMATIC', 'NON_ANGINAL']\n"
     ]
    }
   ],
   "source": [
    "index_list=[chest_pain[i] for i in range(len(age))if age[i]> 50 and chest_pain!= 'ATYPICAL_ANGINA' ]\n",
    "print(index_list)"
   ]
  },
  {
   "cell_type": "markdown",
   "id": "bd4fd3da",
   "metadata": {},
   "source": [
    "Question4: emplement this nested for loop logic shown aboveusing a list comprehension. Apply your list comprehension to the nlist list of lists shown above. Be sure to print your newly created list to the screen."
   ]
  },
  {
   "cell_type": "markdown",
   "id": "40ba57ce",
   "metadata": {},
   "source": [
    "Think in for-loops syntax firstly. So, If I used for loops for the previous flattening,The sentence will be\n",
    "flist = []\n",
    "for x in nlist:\n",
    " for y in x:\n",
    " flist.append(y)\n",
    "print(flist)\n",
    "which, if y is moved to the front and joined in one line would be the correct nested list comprehension."
   ]
  },
  {
   "cell_type": "code",
   "execution_count": 16,
   "id": "415823f7",
   "metadata": {},
   "outputs": [
    {
     "name": "stdout",
     "output_type": "stream",
     "text": [
      "['Z', 4, 'ITTOD', 80, 1, 2, 3, 'A', 'B', 'C', 4, 5, 'D', 'E']\n"
     ]
    }
   ],
   "source": [
    "nlist=[['Z',4,'ITTOD',80],[1,2,3],['A','B','C'],[4,5],['D','E']]\n",
    "flist=[y for x in nlist for y in x]\n",
    "print(flist)"
   ]
  },
  {
   "cell_type": "markdown",
   "id": "14ad6802",
   "metadata": {},
   "source": [
    "Question5: Your fifth task is to create a user defined function that accepts as input one of the six hospital patient attribute lists as well as an integer value and returns a Python dict object. Remember: a Python dict object is comprised of ‘key/value’ pairs. The integer value accepted as a parameter by your function will represent the exact number of items you are to use from the list for purposes of creating the new dict object."
   ]
  },
  {
   "cell_type": "markdown",
   "id": "81772172",
   "metadata": {},
   "source": [
    "To create this \"dict\", we should have its seg_index and seg_list, the seg_list is known, the seg_index should be \"AIM\"+ID, I difinate it as a string. After I got the seg_index by \"for\" loop, we can create the whole dict by these two parts, seg_index and seg_list, the empty \"newdict will full of data by  newdict[seg_index[i]]=seg_list[i] and in the end, return(newdict)"
   ]
  },
  {
   "cell_type": "code",
   "execution_count": 17,
   "id": "dcb149e9",
   "metadata": {},
   "outputs": [],
   "source": [
    "def makedict(mylist, x):\n",
    "    newdict={}\n",
    "    seg_list = mylist\n",
    "    seg_index=[]\n",
    "    for i in range(x):\n",
    "        seg_index.append('AIM'+str(i+1))\n",
    "    for i in range(x):\n",
    "        newdict[seg_index[i]]=seg_list[i]\n",
    "    return(newdict)"
   ]
  },
  {
   "cell_type": "markdown",
   "id": "b33ca055",
   "metadata": {},
   "source": [
    "Question6: Now that you have your reusable user-defined function, use it to create two new dict objects containing the first fifteen elements of the ‘PainType’ and ‘Blood Pressure’ lists, respectively. Then, use these dict objects to tell us the PainType and Blood Pressure of the hospital patient identified by the ‘AIM12’ key value."
   ]
  },
  {
   "cell_type": "markdown",
   "id": "3fa9912a",
   "metadata": {},
   "source": [
    "Now, just use the function I have created in question5 and print the result. in dict1, mylist is chest_pain，and x=15;\n",
    "in dict2, mylist is bloodpres，and x=15."
   ]
  },
  {
   "cell_type": "code",
   "execution_count": 19,
   "id": "dd6e0c32",
   "metadata": {},
   "outputs": [
    {
     "name": "stdout",
     "output_type": "stream",
     "text": [
      "ATYPICAL_ANGINA\n",
      "140\n"
     ]
    }
   ],
   "source": [
    "dict_1=makedict(chest_pain,15)\n",
    "print(dict_1['AIM12'])\n",
    "dict_2=makedict(bloodpres,15)\n",
    "print(dict_2['AIM12'])"
   ]
  },
  {
   "cell_type": "markdown",
   "id": "0d0667d4",
   "metadata": {},
   "source": [
    "As you see, it worked.\n",
    "That's all. Thank you!"
   ]
  },
  {
   "cell_type": "code",
   "execution_count": null,
   "id": "b090e8ee",
   "metadata": {},
   "outputs": [],
   "source": []
  }
 ],
 "metadata": {
  "kernelspec": {
   "display_name": "Python 3 (ipykernel)",
   "language": "python",
   "name": "python3"
  },
  "language_info": {
   "codemirror_mode": {
    "name": "ipython",
    "version": 3
   },
   "file_extension": ".py",
   "mimetype": "text/x-python",
   "name": "python",
   "nbconvert_exporter": "python",
   "pygments_lexer": "ipython3",
   "version": "3.9.13"
  }
 },
 "nbformat": 4,
 "nbformat_minor": 5
}
